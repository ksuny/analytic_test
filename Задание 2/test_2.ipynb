{
 "cells": [
  {
   "cell_type": "code",
   "execution_count": 42,
   "metadata": {},
   "outputs": [],
   "source": [
    "from sklearn.cluster import KMeans"
   ]
  },
  {
   "cell_type": "code",
   "execution_count": 43,
   "metadata": {},
   "outputs": [],
   "source": [
    "file_name = './test2.data'\n",
    "article = 'https://news.mail.ru/economics/39536541/'"
   ]
  },
  {
   "cell_type": "code",
   "execution_count": 30,
   "metadata": {},
   "outputs": [],
   "source": [
    "# Первый вариант решения задачи:\n",
    "\n",
    "# Для каждого пользователя находим все статьи, которые он посещал. \n",
    "# Далее находим расстояние от пользователей, посещавших нужную статью, до остальных. \n",
    "# За расстояние берём количество отличающихся статей пользователей. \n",
    "# Наиболее близких пользователей берём как пользователей с наименьшей суммой расстояний до \"нужных\" пользователей. "
   ]
  },
  {
   "cell_type": "code",
   "execution_count": 36,
   "metadata": {},
   "outputs": [],
   "source": [
    "des_users = set()  # Нужные пользователи\n",
    "dist_urls = set()  # Уникальные урлы\n",
    "user_url = {}  # {пользователь: посещённые статьи}\n",
    "with open(file_name) as f:\n",
    "    for line in f:\n",
    "        user, url = line.split()[0], line.split()[1]\n",
    "        if user not in user_url:\n",
    "            user_url[user] = set()\n",
    "        user_url[user].add(url)\n",
    "        \n",
    "        dist_urls.add(url)\n",
    "        if url == article:\n",
    "            des_users.add(user)\n"
   ]
  },
  {
   "cell_type": "code",
   "execution_count": 24,
   "metadata": {},
   "outputs": [],
   "source": [
    "distance = {}  # {пользователь: сумма расстояний до нужных пользователей}\n",
    "for i, des_user in enumerate(des_users):\n",
    "    for j, user in enumerate(user_url):\n",
    "        if user in des_users:  # В топе не будем учитывать пользователей, посещавших нужную статью\n",
    "            continue\n",
    "\n",
    "        if i == 0:\n",
    "            distance[user] = len(user_url[user].symmetric_difference(user_url[des_user]))\n",
    "        else:\n",
    "            distance[user] += len(user_url[user].symmetric_difference(user_url[des_user]))"
   ]
  },
  {
   "cell_type": "code",
   "execution_count": 25,
   "metadata": {},
   "outputs": [],
   "source": [
    "sort = sorted(distance.items(), key=lambda item: item[1])[:10000]"
   ]
  },
  {
   "cell_type": "code",
   "execution_count": 27,
   "metadata": {},
   "outputs": [],
   "source": [
    "# Получившийся топ пользователей\n",
    "top = [x[0] for x in sort]"
   ]
  },
  {
   "cell_type": "code",
   "execution_count": 31,
   "metadata": {},
   "outputs": [],
   "source": [
    "# Этот способ решения плохо работает на тестовых данных, так как большинство пользователей посещали только одну статью\n",
    "\n",
    "# Второй вариант решения:\n",
    "\n",
    "# Разделим все урлы на кластеры с помощью kmeans. \n",
    "# Каждому урлу добавим список фичей: \n",
    "#     принадлежность к категории, количество сегментов урла, содержит 'comment', содержит 'gallery'\n",
    "# И дальше расчитаем расстояние, как количество пересекающихся классов у пользователей \n",
    "# (в топ войдут пользователи с наибольшим расстоянием)\n"
   ]
  },
  {
   "cell_type": "code",
   "execution_count": 39,
   "metadata": {},
   "outputs": [
    {
     "name": "stdout",
     "output_type": "stream",
     "text": [
      "['politics', 'amp', 'economics', 'incident', 'tag', 'society', 'foto', 'currency', 'infographics', 'landing', 'video', 'company', 'wall-127229518_31843', 'wall-182116422_356', 'media', 'ufa1ru', 'video-182116422_456239026']\n"
     ]
    }
   ],
   "source": [
    "# Находим все категории статей\n",
    "topic_names = []\n",
    "for i in dist_urls:\n",
    "    a = i.split('/')\n",
    "    if a[3] not in topic_names:\n",
    "        topic_names.append(a[3])\n",
    "\n",
    "print(topic_names)"
   ]
  },
  {
   "cell_type": "code",
   "execution_count": 40,
   "metadata": {},
   "outputs": [],
   "source": [
    "# Удаляем специфичные категории, считаем, что это категория other \n",
    "topic_names.remove('video-182116422_456239026')\n",
    "topic_names.remove('wall-182116422_356')\n",
    "topic_names.remove('wall-127229518_31843')"
   ]
  },
  {
   "cell_type": "code",
   "execution_count": 41,
   "metadata": {},
   "outputs": [],
   "source": [
    "user_url = set()\n",
    "des_users = set()\n",
    "url_features = {} # {урл: список фичей}\n",
    "\n",
    "with open(file_name) as f:\n",
    "    for line in f:\n",
    "        user, url = line.split()[0], line.split()[1]\n",
    "        user_url.add((user, url))\n",
    "        if url == article:\n",
    "            des_users.add(user)\n",
    "        \n",
    "        if url not in url_features:\n",
    "            split_url = url.split('/')\n",
    "            k_sections = len(split_url) - 2\n",
    "            topic = [0] * (len(topic_names) + 1)\n",
    "            if '-' in split_url[3]:\n",
    "                topic[-1] = 1\n",
    "            else:\n",
    "                topic[topic_names.index(split_url[3])] = 1\n",
    "                \n",
    "            comments = 0\n",
    "            if 'comments' in url:\n",
    "                comments = 1\n",
    "            gallery = 0\n",
    "            if 'gallery' in url:\n",
    "                gallery = 1\n",
    "                \n",
    "            url_features[url] = [k_sections, comments, gallery] + topic"
   ]
  },
  {
   "cell_type": "code",
   "execution_count": 49,
   "metadata": {},
   "outputs": [],
   "source": [
    "features = list(url_features.values())\n",
    "kmeans = KMeans(n_clusters=18).fit(features)\n",
    "url_class = list(kmeans.labels_)"
   ]
  },
  {
   "cell_type": "code",
   "execution_count": 50,
   "metadata": {},
   "outputs": [],
   "source": [
    "# Определяем для каждого пользователя список классов статей, которые они посещали\n",
    "user_class = {}\n",
    "for i in user_url:\n",
    "    user, url = i[0], i[1]\n",
    "    \n",
    "    if user not in user_class:\n",
    "        user_class[user] = set()\n",
    "        \n",
    "    val = url_features[url]\n",
    "    user_class[user].add(url_class[features.index(val)])"
   ]
  },
  {
   "cell_type": "code",
   "execution_count": 51,
   "metadata": {},
   "outputs": [],
   "source": [
    "distance = {}\n",
    "for i, des_user in enumerate(des_users):\n",
    "    for j, user in enumerate(user_class.keys()):\n",
    "        if user in des_users:\n",
    "            continue\n",
    "\n",
    "        if i == 0:\n",
    "            distance[user] = len(user_class[user].intersection(user_class[des_user]))\n",
    "        else:\n",
    "            distance[user] += len(user_class[user].intersection(user_class[des_user]))"
   ]
  },
  {
   "cell_type": "code",
   "execution_count": 52,
   "metadata": {},
   "outputs": [],
   "source": [
    "sort = sorted(distance.items(), key=lambda item: item[1], reverse=True)"
   ]
  },
  {
   "cell_type": "code",
   "execution_count": 54,
   "metadata": {},
   "outputs": [],
   "source": [
    "# Получившийся топ пользователей \n",
    "# По сути он включает пользователей, посещавших статьи по экономике, и политике, \n",
    "# так как \"нужные\" пользователи посещали только одну или 2 статьи (нужную и в категории политика)\n",
    "top = [x[0] for x in sort]"
   ]
  }
 ],
 "metadata": {
  "kernelspec": {
   "display_name": "Python 3",
   "language": "python",
   "name": "python3"
  },
  "language_info": {
   "codemirror_mode": {
    "name": "ipython",
    "version": 3
   },
   "file_extension": ".py",
   "mimetype": "text/x-python",
   "name": "python",
   "nbconvert_exporter": "python",
   "pygments_lexer": "ipython3",
   "version": "3.6.12"
  }
 },
 "nbformat": 4,
 "nbformat_minor": 4
}
